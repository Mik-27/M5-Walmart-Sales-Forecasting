{
 "cells": [
  {
   "cell_type": "markdown",
   "id": "419dbc37",
   "metadata": {},
   "source": [
    "# M5 Walmart Sales Forecasting - Data Exploration\n",
    "\n",
    "This notebook performs comprehensive exploratory data analysis (EDA) on the M5 Walmart Sales dataset.\n",
    "\n",
    "## Dataset Overview\n",
    "\n",
    "The M5 dataset contains:\n",
    "- **calendar.csv**: Date information with events and holidays\n",
    "- **sales_train_validation.csv**: Historical daily unit sales data\n",
    "- **sell_prices.csv**: Price information per store and date\n",
    "- **sample_submission.csv**: Sample submission format"
   ]
  },
  {
   "cell_type": "code",
   "execution_count": null,
   "id": "eda005f4",
   "metadata": {},
   "outputs": [],
   "source": [
    "# Import necessary libraries\n",
    "import sys\n",
    "import os\n",
    "\n",
    "# Add src to path for imports\n",
    "sys.path.append('../')\n",
    "\n",
    "import pandas as pd\n",
    "import numpy as np\n",
    "import matplotlib.pyplot as plt\n",
    "import seaborn as sns\n",
    "import warnings\n",
    "\n",
    "from src.data.data_loader import M5DataLoader, DataValidator\n",
    "from src.visualization.plots import M5Visualizer\n",
    "from src.utils.config import get_config\n",
    "from src.utils.logger import setup_logger\n",
    "\n",
    "# Setup\n",
    "warnings.filterwarnings('ignore')\n",
    "logger = setup_logger('eda_notebook')\n",
    "config = get_config()\n",
    "\n",
    "# Initialize visualizer\n",
    "visualizer = M5Visualizer()\n",
    "\n",
    "print(\"Libraries imported successfully!\")"
   ]
  },
  {
   "cell_type": "markdown",
   "id": "20a0ec5e",
   "metadata": {},
   "source": [
    "## 1. Data Loading and Basic Information"
   ]
  },
  {
   "cell_type": "code",
   "execution_count": null,
   "id": "f972a1bc",
   "metadata": {},
   "outputs": [],
   "source": [
    "# Load data using the data loader\n",
    "data_path = config.get('data.raw_data_path', 'data/raw/')\n",
    "loader = M5DataLoader(data_path)\n",
    "\n",
    "try:\n",
    "    calendar, sales, prices = loader.load_all_data()\n",
    "    print(\"Data loaded successfully!\")\n",
    "except Exception as e:\n",
    "    print(f\"Error loading data: {e}\")\n",
    "    print(\"Please ensure data files are in the correct directory\")"
   ]
  },
  {
   "cell_type": "code",
   "execution_count": null,
   "id": "adae7825",
   "metadata": {},
   "outputs": [],
   "source": [
    "# Get data information\n",
    "data_info = loader.get_data_info()\n",
    "print(\"Dataset Information:\")\n",
    "print(\"=\" * 50)\n",
    "\n",
    "for dataset_name, info in data_info.items():\n",
    "    print(f\"\\n{dataset_name.upper()}:\")\n",
    "    print(f\"  Shape: {info['shape']}\")\n",
    "    \n",
    "    if 'date_range' in info:\n",
    "        print(f\"  Date Range: {info['date_range'][0]} to {info['date_range'][1]}\")\n",
    "    if 'num_items' in info:\n",
    "        print(f\"  Number of Items: {info['num_items']}\")\n",
    "        print(f\"  Number of Stores: {info['num_stores']}\")\n",
    "        print(f\"  Number of Categories: {info['num_categories']}\")\n",
    "    if 'price_range' in info:\n",
    "        print(f\"  Price Range: ${info['price_range'][0]:.2f} - ${info['price_range'][1]:.2f}\")"
   ]
  },
  {
   "cell_type": "code",
   "execution_count": null,
   "id": "994ac431",
   "metadata": {},
   "outputs": [],
   "source": [
    "# Validate data\n",
    "validator = DataValidator()\n",
    "\n",
    "print(\"Data Validation Results:\")\n",
    "print(\"=\" * 30)\n",
    "print(f\"Sales data valid: {validator.validate_sales_data(sales)}\")\n",
    "print(f\"Calendar data valid: {validator.validate_calendar_data(calendar)}\")\n",
    "print(f\"Prices data valid: {validator.validate_prices_data(prices)}\")"
   ]
  },
  {
   "cell_type": "markdown",
   "id": "2cb66b21",
   "metadata": {},
   "source": [
    "## 2. Calendar Data Analysis"
   ]
  },
  {
   "cell_type": "code",
   "execution_count": null,
   "id": "99a2a52f",
   "metadata": {},
   "outputs": [],
   "source": [
    "# Display calendar data structure\n",
    "print(\"Calendar Data Sample:\")\n",
    "print(calendar.head())\n",
    "print(f\"\\nCalendar Data Shape: {calendar.shape}\")\n",
    "print(f\"Date Range: {calendar['date'].min()} to {calendar['date'].max()}\")"
   ]
  },
  {
   "cell_type": "code",
   "execution_count": null,
   "id": "f0500154",
   "metadata": {},
   "outputs": [],
   "source": [
    "# Analyze events\n",
    "print(\"Event Analysis:\")\n",
    "print(\"=\" * 20)\n",
    "\n",
    "# Count events\n",
    "events_1 = calendar['event_name_1'].value_counts().head(10)\n",
    "events_2 = calendar['event_name_2'].value_counts().head(10)\n",
    "\n",
    "print(\"Top 10 Primary Events:\")\n",
    "print(events_1)\n",
    "\n",
    "print(\"\\nTop 10 Secondary Events:\")\n",
    "print(events_2)\n",
    "\n",
    "# Event types\n",
    "print(\"\\nEvent Types:\")\n",
    "event_types = calendar['event_type_1'].value_counts()\n",
    "print(event_types)"
   ]
  },
  {
   "cell_type": "code",
   "execution_count": null,
   "id": "b57f8674",
   "metadata": {},
   "outputs": [],
   "source": [
    "# SNAP analysis\n",
    "print(\"SNAP Benefits Analysis:\")\n",
    "print(\"=\" * 25)\n",
    "\n",
    "snap_summary = calendar[['snap_CA', 'snap_TX', 'snap_WI']].sum()\n",
    "print(\"Days with SNAP benefits by state:\")\n",
    "print(snap_summary)\n",
    "\n",
    "# Percentage of days with SNAP\n",
    "snap_pct = snap_summary / len(calendar) * 100\n",
    "print(\"\\nPercentage of days with SNAP benefits:\")\n",
    "print(snap_pct.round(2))"
   ]
  },
  {
   "cell_type": "markdown",
   "id": "9bebf379",
   "metadata": {},
   "source": [
    "## 3. Sales Data Analysis"
   ]
  },
  {
   "cell_type": "code",
   "execution_count": null,
   "id": "63727fd4",
   "metadata": {},
   "outputs": [],
   "source": [
    "# Display sales data structure\n",
    "print(\"Sales Data Sample:\")\n",
    "print(sales.head())\n",
    "print(f\"\\nSales Data Shape: {sales.shape}\")\n",
    "\n",
    "# Get day columns\n",
    "day_columns = [col for col in sales.columns if col.startswith('d_')]\n",
    "print(f\"Number of days: {len(day_columns)}\")\n",
    "print(f\"First day: {day_columns[0]}\")\n",
    "print(f\"Last day: {day_columns[-1]}\")"
   ]
  },
  {
   "cell_type": "code",
   "execution_count": null,
   "id": "4efc8e2f",
   "metadata": {},
   "outputs": [],
   "source": [
    "# Basic sales statistics\n",
    "print(\"Sales Statistics:\")\n",
    "print(\"=\" * 20)\n",
    "\n",
    "# Calculate total sales per item\n",
    "total_sales = sales[day_columns].sum(axis=1)\n",
    "print(f\"Total sales across all items and days: {total_sales.sum():,}\")\n",
    "print(f\"Average total sales per item: {total_sales.mean():.2f}\")\n",
    "print(f\"Median total sales per item: {total_sales.median():.2f}\")\n",
    "print(f\"Max total sales for a single item: {total_sales.max():,}\")\n",
    "print(f\"Min total sales for a single item: {total_sales.min():,}\")\n",
    "\n",
    "# Zero sales analysis\n",
    "zero_sales = (sales[day_columns] == 0).sum().sum()\n",
    "total_observations = len(sales) * len(day_columns)\n",
    "zero_pct = zero_sales / total_observations * 100\n",
    "print(f\"\\nZero sales observations: {zero_sales:,} ({zero_pct:.2f}%)\")"
   ]
  },
  {
   "cell_type": "code",
   "execution_count": null,
   "id": "f6217331",
   "metadata": {},
   "outputs": [],
   "source": [
    "# Sales by category\n",
    "print(\"Sales by Category:\")\n",
    "print(\"=\" * 20)\n",
    "\n",
    "category_sales = sales.groupby('cat_id')[day_columns].sum().sum(axis=1).sort_values(ascending=False)\n",
    "print(category_sales)\n",
    "\n",
    "# Sales by department\n",
    "print(\"\\nTop 10 Departments by Sales:\")\n",
    "dept_sales = sales.groupby('dept_id')[day_columns].sum().sum(axis=1).sort_values(ascending=False).head(10)\n",
    "print(dept_sales)"
   ]
  },
  {
   "cell_type": "code",
   "execution_count": null,
   "id": "ec3efcca",
   "metadata": {},
   "outputs": [],
   "source": [
    "# Sales by store and state\n",
    "print(\"Sales by Store:\")\n",
    "print(\"=\" * 15)\n",
    "\n",
    "store_sales = sales.groupby('store_id')[day_columns].sum().sum(axis=1).sort_values(ascending=False)\n",
    "print(store_sales)\n",
    "\n",
    "print(\"\\nSales by State:\")\n",
    "state_sales = sales.groupby('state_id')[day_columns].sum().sum(axis=1).sort_values(ascending=False)\n",
    "print(state_sales)"
   ]
  },
  {
   "cell_type": "markdown",
   "id": "190530a0",
   "metadata": {},
   "source": [
    "## 4. Price Data Analysis"
   ]
  },
  {
   "cell_type": "code",
   "execution_count": null,
   "id": "54472480",
   "metadata": {},
   "outputs": [],
   "source": [
    "# Display price data structure\n",
    "print(\"Price Data Sample:\")\n",
    "print(prices.head())\n",
    "print(f\"\\nPrice Data Shape: {prices.shape}\")\n",
    "\n",
    "# Basic price statistics\n",
    "print(\"\\nPrice Statistics:\")\n",
    "print(\"=\" * 20)\n",
    "print(f\"Average price: ${prices['sell_price'].mean():.2f}\")\n",
    "print(f\"Median price: ${prices['sell_price'].median():.2f}\")\n",
    "print(f\"Min price: ${prices['sell_price'].min():.2f}\")\n",
    "print(f\"Max price: ${prices['sell_price'].max():.2f}\")\n",
    "print(f\"Standard deviation: ${prices['sell_price'].std():.2f}\")"
   ]
  },
  {
   "cell_type": "code",
   "execution_count": null,
   "id": "634c3f8b",
   "metadata": {},
   "outputs": [],
   "source": [
    "# Price coverage analysis\n",
    "print(\"Price Coverage Analysis:\")\n",
    "print(\"=\" * 25)\n",
    "\n",
    "# Number of unique items with prices\n",
    "unique_items_with_prices = prices['item_id'].nunique()\n",
    "total_unique_items = sales['item_id'].nunique()\n",
    "\n",
    "print(f\"Items with price data: {unique_items_with_prices}\")\n",
    "print(f\"Total items in sales data: {total_unique_items}\")\n",
    "print(f\"Price coverage: {unique_items_with_prices/total_unique_items*100:.2f}%\")\n",
    "\n",
    "# Price data by store\n",
    "print(\"\\nPrice observations by store:\")\n",
    "store_price_counts = prices['store_id'].value_counts().sort_index()\n",
    "print(store_price_counts)"
   ]
  },
  {
   "cell_type": "markdown",
   "id": "82a5b3d7",
   "metadata": {},
   "source": [
    "## 5. Data Visualization"
   ]
  },
  {
   "cell_type": "code",
   "execution_count": null,
   "id": "e98df6c3",
   "metadata": {},
   "outputs": [],
   "source": [
    "# Plot sales trends for sample items\n",
    "try:\n",
    "    visualizer.plot_sales_trends(sales, num_samples=3)\n",
    "except Exception as e:\n",
    "    print(f\"Error creating sales trends plot: {e}\")"
   ]
  },
  {
   "cell_type": "code",
   "execution_count": null,
   "id": "7039e2ac",
   "metadata": {},
   "outputs": [],
   "source": [
    "# Plot category performance\n",
    "try:\n",
    "    visualizer.plot_category_performance(sales, top_n=10)\n",
    "except Exception as e:\n",
    "    print(f\"Error creating category performance plot: {e}\")"
   ]
  },
  {
   "cell_type": "code",
   "execution_count": null,
   "id": "49c3516a",
   "metadata": {},
   "outputs": [],
   "source": [
    "# Plot store performance\n",
    "try:\n",
    "    visualizer.plot_store_performance(sales)\n",
    "except Exception as e:\n",
    "    print(f\"Error creating store performance plot: {e}\")"
   ]
  },
  {
   "cell_type": "code",
   "execution_count": null,
   "id": "9768b1ca",
   "metadata": {},
   "outputs": [],
   "source": [
    "# Plot price analysis\n",
    "try:\n",
    "    visualizer.plot_price_analysis(prices)\n",
    "except Exception as e:\n",
    "    print(f\"Error creating price analysis plot: {e}\")"
   ]
  },
  {
   "cell_type": "code",
   "execution_count": null,
   "id": "b6c0f610",
   "metadata": {},
   "outputs": [],
   "source": [
    "# Plot rolling average sales\n",
    "try:\n",
    "    visualizer.plot_rolling_average(sales, calendar, prices, window=90)\n",
    "except Exception as e:\n",
    "    print(f\"Error creating rolling average plot: {e}\")"
   ]
  },
  {
   "cell_type": "markdown",
   "id": "8c5dd4c1",
   "metadata": {},
   "source": [
    "## 6. Data Quality Assessment"
   ]
  },
  {
   "cell_type": "code",
   "execution_count": null,
   "id": "508712dc",
   "metadata": {},
   "outputs": [],
   "source": [
    "# Missing data analysis\n",
    "print(\"Missing Data Analysis:\")\n",
    "print(\"=\" * 25)\n",
    "\n",
    "print(\"Calendar missing values:\")\n",
    "calendar_missing = calendar.isnull().sum()\n",
    "print(calendar_missing[calendar_missing > 0])\n",
    "\n",
    "print(\"\\nSales missing values:\")\n",
    "sales_missing = sales.isnull().sum()\n",
    "print(sales_missing[sales_missing > 0])\n",
    "\n",
    "print(\"\\nPrices missing values:\")\n",
    "prices_missing = prices.isnull().sum()\n",
    "print(prices_missing[prices_missing > 0])"
   ]
  },
  {
   "cell_type": "code",
   "execution_count": null,
   "id": "b9976275",
   "metadata": {},
   "outputs": [],
   "source": [
    "# Data consistency checks\n",
    "print(\"Data Consistency Checks:\")\n",
    "print(\"=\" * 25)\n",
    "\n",
    "# Check if all days in calendar are present in sales data\n",
    "calendar_days = set(calendar['d'])\n",
    "sales_days = set(day_columns)\n",
    "\n",
    "missing_in_sales = calendar_days - sales_days\n",
    "missing_in_calendar = sales_days - calendar_days\n",
    "\n",
    "print(f\"Days in calendar but not in sales: {len(missing_in_sales)}\")\n",
    "print(f\"Days in sales but not in calendar: {len(missing_in_calendar)}\")\n",
    "\n",
    "# Check item consistency between sales and prices\n",
    "sales_items = set(sales['item_id'])\n",
    "price_items = set(prices['item_id'])\n",
    "\n",
    "items_without_prices = sales_items - price_items\n",
    "price_items_not_in_sales = price_items - sales_items\n",
    "\n",
    "print(f\"\\nItems in sales but not in prices: {len(items_without_prices)}\")\n",
    "print(f\"Items in prices but not in sales: {len(price_items_not_in_sales)}\")"
   ]
  },
  {
   "cell_type": "markdown",
   "id": "3846ad79",
   "metadata": {},
   "source": [
    "## 7. Summary and Key Insights"
   ]
  },
  {
   "cell_type": "code",
   "execution_count": null,
   "id": "4b9758dc",
   "metadata": {},
   "outputs": [],
   "source": [
    "print(\"KEY INSIGHTS FROM EXPLORATORY DATA ANALYSIS\")\n",
    "print(\"=\" * 50)\n",
    "\n",
    "print(\"\\n1. DATASET OVERVIEW:\")\n",
    "print(f\"   • Sales data covers {len(day_columns)} days\")\n",
    "print(f\"   • {sales['item_id'].nunique()} unique items across {sales['store_id'].nunique()} stores\")\n",
    "print(f\"   • {sales['cat_id'].nunique()} product categories and {sales['dept_id'].nunique()} departments\")\n",
    "print(f\"   • {sales['state_id'].nunique()} states: {', '.join(sales['state_id'].unique())}\")\n",
    "\n",
    "print(\"\\n2. SALES PATTERNS:\")\n",
    "print(f\"   • Total sales volume: {total_sales.sum():,} units\")\n",
    "print(f\"   • {zero_pct:.1f}% of observations are zero sales (stockouts or no demand)\")\n",
    "print(f\"   • Top category: {category_sales.index[0]} ({category_sales.iloc[0]:,} units)\")\n",
    "print(f\"   • Top state: {state_sales.index[0]} ({state_sales.iloc[0]:,} units)\")\n",
    "\n",
    "print(\"\\n3. PRICING INFORMATION:\")\n",
    "print(f\"   • Price range: ${prices['sell_price'].min():.2f} - ${prices['sell_price'].max():.2f}\")\n",
    "print(f\"   • Average price: ${prices['sell_price'].mean():.2f}\")\n",
    "print(f\"   • Price coverage: {unique_items_with_prices/total_unique_items*100:.1f}% of items have price data\")\n",
    "\n",
    "print(\"\\n4. EVENTS AND SEASONALITY:\")\n",
    "print(f\"   • {calendar['event_name_1'].notna().sum()} days with primary events\")\n",
    "print(f\"   • {calendar['event_name_2'].notna().sum()} days with secondary events\")\n",
    "print(f\"   • Main event types: {', '.join(event_types.head(3).index)}\")\n",
    "\n",
    "print(\"\\n5. DATA QUALITY:\")\n",
    "quality_score = 100\n",
    "if len(missing_in_sales) > 0 or len(missing_in_calendar) > 0:\n",
    "    quality_score -= 10\n",
    "if len(items_without_prices) > len(sales_items) * 0.1:\n",
    "    quality_score -= 10\n",
    "if zero_pct > 50:\n",
    "    quality_score -= 10\n",
    "\n",
    "print(f\"   • Overall data quality score: {quality_score}/100\")\n",
    "print(f\"   • Calendar-sales alignment: {'✓' if len(missing_in_sales) == 0 else '✗'}\")\n",
    "print(f\"   • Price data coverage: {'✓' if len(items_without_prices) < len(sales_items) * 0.1 else '✗'}\")\n",
    "\n",
    "print(\"\\n6. RECOMMENDATIONS FOR MODELING:\")\n",
    "print(\"   • Handle zero sales appropriately (intermittent demand)\")\n",
    "print(\"   • Consider hierarchical forecasting (item/store/category levels)\")\n",
    "print(\"   • Incorporate price and event information as features\")\n",
    "print(\"   • Account for seasonality and trends in the data\")\n",
    "print(\"   • Use last 28-56 days for validation/testing\")"
   ]
  },
  {
   "cell_type": "markdown",
   "id": "ff076593",
   "metadata": {},
   "source": [
    "## 8. Save Processed Data\n",
    "\n",
    "Save key insights and summary statistics for use in subsequent notebooks."
   ]
  },
  {
   "cell_type": "code",
   "execution_count": null,
   "id": "7f9e9d94",
   "metadata": {},
   "outputs": [],
   "source": [
    "# Create summary statistics dictionary\n",
    "eda_summary = {\n",
    "    'dataset_info': {\n",
    "        'num_items': sales['item_id'].nunique(),\n",
    "        'num_stores': sales['store_id'].nunique(),\n",
    "        'num_categories': sales['cat_id'].nunique(),\n",
    "        'num_departments': sales['dept_id'].nunique(),\n",
    "        'num_days': len(day_columns),\n",
    "        'states': sales['state_id'].unique().tolist()\n",
    "    },\n",
    "    'sales_stats': {\n",
    "        'total_sales': int(total_sales.sum()),\n",
    "        'avg_sales_per_item': float(total_sales.mean()),\n",
    "        'zero_sales_percentage': float(zero_pct),\n",
    "        'top_category': category_sales.index[0],\n",
    "        'top_state': state_sales.index[0]\n",
    "    },\n",
    "    'price_stats': {\n",
    "        'avg_price': float(prices['sell_price'].mean()),\n",
    "        'min_price': float(prices['sell_price'].min()),\n",
    "        'max_price': float(prices['sell_price'].max()),\n",
    "        'price_coverage': float(unique_items_with_prices/total_unique_items)\n",
    "    },\n",
    "    'data_quality': {\n",
    "        'calendar_sales_alignment': len(missing_in_sales) == 0,\n",
    "        'price_coverage_adequate': len(items_without_prices) < len(sales_items) * 0.1,\n",
    "        'quality_score': quality_score\n",
    "    }\n",
    "}\n",
    "\n",
    "# Save to JSON for easy loading\n",
    "import json\n",
    "output_dir = config.get('output.reports_path', 'output/reports/')\n",
    "os.makedirs(output_dir, exist_ok=True)\n",
    "\n",
    "with open(f\"{output_dir}/eda_summary.json\", 'w') as f:\n",
    "    json.dump(eda_summary, f, indent=2)\n",
    "\n",
    "print(\"EDA summary saved to output/reports/eda_summary.json\")\n",
    "print(\"\\nExploratory Data Analysis Complete!\")"
   ]
  }
 ],
 "metadata": {
  "language_info": {
   "name": "python"
  }
 },
 "nbformat": 4,
 "nbformat_minor": 5
}
